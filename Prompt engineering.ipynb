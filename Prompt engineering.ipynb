{
 "cells": [
  {
   "cell_type": "code",
   "execution_count": 2,
   "id": "a403fd59",
   "metadata": {
    "scrolled": true
   },
   "outputs": [
    {
     "name": "stdout",
     "output_type": "stream",
     "text": [
      "Requirement already satisfied: langchain in c:\\users\\kirandambal\\appdata\\local\\programs\\python\\python311\\lib\\site-packages (0.2.14)\n",
      "Requirement already satisfied: langchain_community in c:\\users\\kirandambal\\appdata\\local\\programs\\python\\python311\\lib\\site-packages (0.2.12)\n",
      "Requirement already satisfied: PyYAML>=5.3 in c:\\users\\kirandambal\\appdata\\local\\programs\\python\\python311\\lib\\site-packages (from langchain) (6.0)\n",
      "Requirement already satisfied: SQLAlchemy<3,>=1.4 in c:\\users\\kirandambal\\appdata\\local\\programs\\python\\python311\\lib\\site-packages (from langchain) (2.0.15)\n",
      "Requirement already satisfied: aiohttp<4.0.0,>=3.8.3 in c:\\users\\kirandambal\\appdata\\local\\programs\\python\\python311\\lib\\site-packages (from langchain) (3.8.6)\n",
      "Requirement already satisfied: langchain-core<0.3.0,>=0.2.32 in c:\\users\\kirandambal\\appdata\\local\\programs\\python\\python311\\lib\\site-packages (from langchain) (0.2.33)\n",
      "Requirement already satisfied: langchain-text-splitters<0.3.0,>=0.2.0 in c:\\users\\kirandambal\\appdata\\local\\programs\\python\\python311\\lib\\site-packages (from langchain) (0.2.2)\n",
      "Requirement already satisfied: langsmith<0.2.0,>=0.1.17 in c:\\users\\kirandambal\\appdata\\local\\programs\\python\\python311\\lib\\site-packages (from langchain) (0.1.99)\n",
      "Requirement already satisfied: numpy<2,>=1 in c:\\users\\kirandambal\\appdata\\local\\programs\\python\\python311\\lib\\site-packages (from langchain) (1.26.4)\n",
      "Requirement already satisfied: pydantic<3,>=1 in c:\\users\\kirandambal\\appdata\\local\\programs\\python\\python311\\lib\\site-packages (from langchain) (2.5.3)\n",
      "Requirement already satisfied: requests<3,>=2 in c:\\users\\kirandambal\\appdata\\local\\programs\\python\\python311\\lib\\site-packages (from langchain) (2.31.0)\n",
      "Requirement already satisfied: tenacity!=8.4.0,<9.0.0,>=8.1.0 in c:\\users\\kirandambal\\appdata\\local\\programs\\python\\python311\\lib\\site-packages (from langchain) (8.2.3)\n",
      "Requirement already satisfied: dataclasses-json<0.7,>=0.5.7 in c:\\users\\kirandambal\\appdata\\local\\programs\\python\\python311\\lib\\site-packages (from langchain_community) (0.5.14)\n",
      "Requirement already satisfied: attrs>=17.3.0 in c:\\users\\kirandambal\\appdata\\local\\programs\\python\\python311\\lib\\site-packages (from aiohttp<4.0.0,>=3.8.3->langchain) (23.1.0)\n",
      "Requirement already satisfied: charset-normalizer<4.0,>=2.0 in c:\\users\\kirandambal\\appdata\\local\\programs\\python\\python311\\lib\\site-packages (from aiohttp<4.0.0,>=3.8.3->langchain) (3.1.0)\n",
      "Requirement already satisfied: multidict<7.0,>=4.5 in c:\\users\\kirandambal\\appdata\\local\\programs\\python\\python311\\lib\\site-packages (from aiohttp<4.0.0,>=3.8.3->langchain) (6.0.4)\n",
      "Requirement already satisfied: async-timeout<5.0,>=4.0.0a3 in c:\\users\\kirandambal\\appdata\\local\\programs\\python\\python311\\lib\\site-packages (from aiohttp<4.0.0,>=3.8.3->langchain) (4.0.3)\n",
      "Requirement already satisfied: yarl<2.0,>=1.0 in c:\\users\\kirandambal\\appdata\\local\\programs\\python\\python311\\lib\\site-packages (from aiohttp<4.0.0,>=3.8.3->langchain) (1.9.2)\n",
      "Requirement already satisfied: frozenlist>=1.1.1 in c:\\users\\kirandambal\\appdata\\local\\programs\\python\\python311\\lib\\site-packages (from aiohttp<4.0.0,>=3.8.3->langchain) (1.4.0)\n",
      "Requirement already satisfied: aiosignal>=1.1.2 in c:\\users\\kirandambal\\appdata\\local\\programs\\python\\python311\\lib\\site-packages (from aiohttp<4.0.0,>=3.8.3->langchain) (1.3.1)\n",
      "Requirement already satisfied: marshmallow<4.0.0,>=3.18.0 in c:\\users\\kirandambal\\appdata\\local\\programs\\python\\python311\\lib\\site-packages (from dataclasses-json<0.7,>=0.5.7->langchain_community) (3.20.2)\n",
      "Requirement already satisfied: typing-inspect<1,>=0.4.0 in c:\\users\\kirandambal\\appdata\\local\\programs\\python\\python311\\lib\\site-packages (from dataclasses-json<0.7,>=0.5.7->langchain_community) (0.9.0)\n",
      "Requirement already satisfied: jsonpatch<2.0,>=1.33 in c:\\users\\kirandambal\\appdata\\local\\programs\\python\\python311\\lib\\site-packages (from langchain-core<0.3.0,>=0.2.32->langchain) (1.33)\n",
      "Requirement already satisfied: packaging<25,>=23.2 in c:\\users\\kirandambal\\appdata\\local\\programs\\python\\python311\\lib\\site-packages (from langchain-core<0.3.0,>=0.2.32->langchain) (23.2)\n",
      "Requirement already satisfied: typing-extensions>=4.7 in c:\\users\\kirandambal\\appdata\\local\\programs\\python\\python311\\lib\\site-packages (from langchain-core<0.3.0,>=0.2.32->langchain) (4.12.2)\n",
      "Requirement already satisfied: orjson<4.0.0,>=3.9.14 in c:\\users\\kirandambal\\appdata\\local\\programs\\python\\python311\\lib\\site-packages (from langsmith<0.2.0,>=0.1.17->langchain) (3.10.7)\n",
      "Requirement already satisfied: annotated-types>=0.4.0 in c:\\users\\kirandambal\\appdata\\local\\programs\\python\\python311\\lib\\site-packages (from pydantic<3,>=1->langchain) (0.6.0)\n",
      "Requirement already satisfied: pydantic-core==2.14.6 in c:\\users\\kirandambal\\appdata\\local\\programs\\python\\python311\\lib\\site-packages (from pydantic<3,>=1->langchain) (2.14.6)\n",
      "Requirement already satisfied: idna<4,>=2.5 in c:\\users\\kirandambal\\appdata\\local\\programs\\python\\python311\\lib\\site-packages (from requests<3,>=2->langchain) (2.10)\n",
      "Requirement already satisfied: urllib3<3,>=1.21.1 in c:\\users\\kirandambal\\appdata\\local\\programs\\python\\python311\\lib\\site-packages (from requests<3,>=2->langchain) (1.26.15)\n",
      "Requirement already satisfied: certifi>=2017.4.17 in c:\\users\\kirandambal\\appdata\\local\\programs\\python\\python311\\lib\\site-packages (from requests<3,>=2->langchain) (2023.5.7)\n",
      "Requirement already satisfied: greenlet!=0.4.17 in c:\\users\\kirandambal\\appdata\\local\\programs\\python\\python311\\lib\\site-packages (from SQLAlchemy<3,>=1.4->langchain) (2.0.2)\n",
      "Requirement already satisfied: jsonpointer>=1.9 in c:\\users\\kirandambal\\appdata\\local\\programs\\python\\python311\\lib\\site-packages (from jsonpatch<2.0,>=1.33->langchain-core<0.3.0,>=0.2.32->langchain) (2.3)\n",
      "Requirement already satisfied: mypy-extensions>=0.3.0 in c:\\users\\kirandambal\\appdata\\local\\programs\\python\\python311\\lib\\site-packages (from typing-inspect<1,>=0.4.0->dataclasses-json<0.7,>=0.5.7->langchain_community) (1.0.0)\n",
      "Note: you may need to restart the kernel to use updated packages.\n"
     ]
    },
    {
     "name": "stderr",
     "output_type": "stream",
     "text": [
      "\n",
      "[notice] A new release of pip is available: 24.2 -> 24.3.1\n",
      "[notice] To update, run: python.exe -m pip install --upgrade pip\n"
     ]
    }
   ],
   "source": [
    "pip install langchain langchain_community"
   ]
  },
  {
   "cell_type": "code",
   "execution_count": 3,
   "id": "caa983d6",
   "metadata": {},
   "outputs": [],
   "source": [
    "from langchain.chains import LLMChain\n",
    "from langchain_community.chat_models import AzureChatOpenAI"
   ]
  },
  {
   "cell_type": "code",
   "execution_count": 4,
   "id": "2a76b5bf",
   "metadata": {},
   "outputs": [],
   "source": [
    "#Environment variables\n",
    "key = \"AqnKIXn43krnHWUd3yAAcGKqymTrQNqSyUIIF8MA45zYwlQtnZ0YJQQJ99AKACfhMk5XJ3w3AAABACOG1TBS\"\n",
    "endpoint = \"https://azureopenai1484.openai.azure.com/\"\n",
    "name = \"Demo\"\n",
    "model = \"gpt-35-turbo-16k\"\n",
    "version = \"2023-03-15-preview\""
   ]
  },
  {
   "cell_type": "code",
   "execution_count": 5,
   "id": "3f9dfab2",
   "metadata": {},
   "outputs": [
    {
     "name": "stderr",
     "output_type": "stream",
     "text": [
      "C:\\Users\\KiranDambal\\AppData\\Local\\Programs\\Python\\Python311\\Lib\\site-packages\\langchain_core\\_api\\deprecation.py:141: LangChainDeprecationWarning: The class `AzureChatOpenAI` was deprecated in LangChain 0.0.10 and will be removed in 0.3.0. An updated version of the class exists in the langchain-openai package and should be used instead. To use it run `pip install -U langchain-openai` and import as `from langchain_openai import AzureChatOpenAI`.\n",
      "  warn_deprecated(\n",
      "C:\\Users\\KiranDambal\\AppData\\Local\\Programs\\Python\\Python311\\Lib\\site-packages\\langchain_community\\chat_models\\azure_openai.py:168: UserWarning: As of openai>=1.0.0, Azure endpoints should be specified via the `azure_endpoint` param not `openai_api_base` (or alias `base_url`). Updating `openai_api_base` from https://azureopenai1484.openai.azure.com/ to https://azureopenai1484.openai.azure.com/openai.\n",
      "  warnings.warn(\n",
      "C:\\Users\\KiranDambal\\AppData\\Local\\Programs\\Python\\Python311\\Lib\\site-packages\\langchain_community\\chat_models\\azure_openai.py:175: UserWarning: As of openai>=1.0.0, if `deployment_name` (or alias `azure_deployment`) is specified then `openai_api_base` (or alias `base_url`) should not be. Instead use `deployment_name` (or alias `azure_deployment`) and `azure_endpoint`.\n",
      "  warnings.warn(\n",
      "C:\\Users\\KiranDambal\\AppData\\Local\\Programs\\Python\\Python311\\Lib\\site-packages\\langchain_community\\chat_models\\azure_openai.py:183: UserWarning: As of openai>=1.0.0, if `openai_api_base` (or alias `base_url`) is specified it is expected to be of the form https://example-resource.azure.openai.com/openai/deployments/example-deployment. Updating https://azureopenai1484.openai.azure.com/ to https://azureopenai1484.openai.azure.com/openai.\n",
      "  warnings.warn(\n"
     ]
    }
   ],
   "source": [
    "#Initilize the LLM through the langchain method\n",
    "llm = AzureChatOpenAI(\n",
    "    deployment_name=name,\n",
    "    model=model,\n",
    "    openai_api_key=key,\n",
    "    openai_api_base=endpoint,\n",
    "    openai_api_version=version,\n",
    ")"
   ]
  },
  {
   "cell_type": "code",
   "execution_count": 9,
   "id": "df28e131",
   "metadata": {},
   "outputs": [
    {
     "name": "stdout",
     "output_type": "stream",
     "text": [
      "content='Hello! How can I assist you today?' response_metadata={'token_usage': {'completion_tokens': 9, 'prompt_tokens': 9, 'total_tokens': 18, 'completion_tokens_details': None, 'prompt_tokens_details': None}, 'model_name': 'gpt-35-turbo-16k', 'system_fingerprint': None, 'finish_reason': 'stop', 'logprobs': None} id='run-72cd3c49-7a13-4770-ac11-0c233ffe39d1-0'\n"
     ]
    }
   ],
   "source": [
    "#Simple intraction with llm\n",
    "\n",
    "\n",
    "from langchain_core.messages import HumanMessage\n",
    "\n",
    "messages = [\n",
    "    HumanMessage(content=\"hi!\")\n",
    "]\n",
    "\n",
    "response=llm.invoke(messages)\n",
    "print(response)"
   ]
  },
  {
   "cell_type": "code",
   "execution_count": 10,
   "id": "1846f838",
   "metadata": {},
   "outputs": [
    {
     "name": "stderr",
     "output_type": "stream",
     "text": [
      "C:\\Users\\KiranDambal\\AppData\\Local\\Programs\\Python\\Python311\\Lib\\site-packages\\langchain_core\\_api\\deprecation.py:141: LangChainDeprecationWarning: The method `Chain.run` was deprecated in langchain 0.1.0 and will be removed in 1.0. Use invoke instead.\n",
      "  warn_deprecated(\n"
     ]
    },
    {
     "name": "stdout",
     "output_type": "stream",
     "text": [
      "Machine learning is a way for computers to learn and make decisions without being explicitly programmed. It's like teaching a computer how to do something by showing it examples instead of giving it step-by-step instructions.\n",
      "\n",
      "Imagine you want to teach a computer how to identify cats. Instead of telling it what features to look for in a cat, you would show it lots of pictures of cats and tell it, \"These are cats.\" The computer would then try to find patterns and similarities in those pictures, like the shape of their ears or the color of their fur.\n",
      "\n",
      "Once the computer has seen enough examples, it can start making predictions on its own. So, if you show it a new picture it hasn't seen before, it can tell you whether or not it contains a cat based on what it has learned from the previous examples.\n",
      "\n",
      "This is how machine learning works—it learns from data and experiences to make educated guesses and decisions. It's like training a computer to learn from examples and become smarter over time.\n"
     ]
    }
   ],
   "source": [
    "#1. Basic Prompting\n",
    "#Basic prompting involves providing a straightforward instruction or query to the model without additional context or constraints.\n",
    "\n",
    "\n",
    "from langchain.prompts import PromptTemplate\n",
    "\n",
    "# Define the prompt\n",
    "prompt = PromptTemplate(input_variables=[\"topic\"], template=\"Explain {topic} in simple terms.\")\n",
    "\n",
    "# Create the LLM Chain\n",
    "chain = LLMChain(llm=llm, prompt=prompt)\n",
    "\n",
    "# Execute the chain\n",
    "response = chain.run({\"topic\": \"machine learning\"})\n",
    "print(response)\n"
   ]
  },
  {
   "cell_type": "code",
   "execution_count": 25,
   "id": "4a11121a",
   "metadata": {},
   "outputs": [
    {
     "name": "stdout",
     "output_type": "stream",
     "text": [
      "नमस्ते, आप कैसे हो? (Namaste, aap kaise ho?)\n"
     ]
    }
   ],
   "source": [
    "## Language Translation\n",
    "\n",
    "from langchain import PromptTemplate\n",
    "\n",
    "template='''In an easy way translate the following sentence '{sentence}' into {target_language}'''\n",
    "language_prompt = PromptTemplate(\n",
    "    input_variables=[\"sentence\",'target_language'],\n",
    "    template=template,\n",
    ")\n",
    "\n",
    "chain = LLMChain(llm=llm, prompt=language_prompt)\n",
    "\n",
    "response = chain.run({'sentence':\"Hello How are you\",'target_language':'hindi'})\n",
    "print(response)"
   ]
  },
  {
   "cell_type": "code",
   "execution_count": 11,
   "id": "78f324fa",
   "metadata": {},
   "outputs": [
    {
     "name": "stdout",
     "output_type": "stream",
     "text": [
      "In depths unknown, where waters dance,\n",
      "A realm of wonder, in a timeless trance.\n",
      "The ocean vast, with its endless sway,\n",
      "Whispers tales through each rolling wave.\n",
      "\n",
      "Beneath the sky's celestial blue,\n",
      "The ocean's canvas, ever anew.\n",
      "With hues of sapphire, emerald, and gold,\n",
      "Its beauty a story that's never been told.\n",
      "\n",
      "From gentle ripples to mighty tides,\n",
      "A symphony of life, where mystery hides.\n",
      "Where dolphins leap and seagulls soar,\n",
      "The ocean's song forevermore.\n",
      "\n",
      "Beneath the surface, a world unseen,\n",
      "Coral kingdoms, where creatures convene.\n",
      "From tiny shells to majestic whales,\n",
      "A tapestry of life, where harmony prevails.\n",
      "\n",
      "The salt-kissed breeze caresses the shore,\n",
      "As foamy kisses reach evermore.\n",
      "With every tide, a dance of delight,\n",
      "The ocean's rhythm, a pure delight.\n",
      "\n",
      "Oh, mighty ocean, so vast and grand,\n",
      "A sanctuary where dreams expand.\n",
      "In your embrace, we find solace true,\n",
      "A timeless haven for me and you.\n"
     ]
    }
   ],
   "source": [
    "#Zero-Shot Prompting\n",
    "#Zero-shot prompting involves asking the model to perform a task without providing examples. It’s suitable for straightforward tasks.\n",
    "\n",
    "\n",
    "prompt = PromptTemplate(input_variables=[\"task\"], template=\"Perform the following task: {task}\")\n",
    "\n",
    "chain = LLMChain(llm=llm, prompt=prompt)\n",
    "\n",
    "response = chain.run({\"task\": \"Generate a short poem about the ocean.\"})\n",
    "print(response)\n",
    "\n"
   ]
  },
  {
   "cell_type": "code",
   "execution_count": 13,
   "id": "4a08c2f8",
   "metadata": {},
   "outputs": [
    {
     "name": "stdout",
     "output_type": "stream",
     "text": [
      "Output: Negative\n"
     ]
    }
   ],
   "source": [
    "#Few-Shot Prompting\n",
    "#Few-shot prompting involves providing examples in the prompt to guide the model on how to respond.\n",
    "\n",
    "\n",
    "prompt_template = \"\"\"\n",
    "You are helpful assistant who analyze the sentiment of the following text as positive, negative, or neutral.\n",
    "Examples:\n",
    "\n",
    "Input: \"I love the new design of this product! It's so sleek and efficient.\"\n",
    "Output: Positive\n",
    "\n",
    "Input: \"The service was okay, but nothing extraordinary.\"\n",
    "Output: Neutral\n",
    "\n",
    "Input: \"I am extremely disappointed with the quality; it broke within a day.\"\n",
    "Output: Negative\n",
    "\n",
    "Query: {query}\n",
    "\"\"\"\n",
    "\n",
    "prompt = PromptTemplate(input_variables=[\"query\"], template=prompt_template)\n",
    "\n",
    "chain = LLMChain(llm=llm, prompt=prompt)\n",
    "\n",
    "response = chain.run({\"query\": \"I had a bad mood.\"})\n",
    "print(response)\n"
   ]
  },
  {
   "cell_type": "code",
   "execution_count": 29,
   "id": "02bc050c",
   "metadata": {},
   "outputs": [
    {
     "name": "stdout",
     "output_type": "stream",
     "text": [
      "Give the antonym of every input\n",
      "\n",
      "Word: happy\n",
      "Antonym: sad\n",
      "\n",
      "Word: tall\n",
      "Antonym: short\n",
      "\n",
      "Word: big\n",
      "Antonym: \n",
      "-------------------------------------------\n",
      "small\n"
     ]
    }
   ],
   "source": [
    "from langchain import PromptTemplate, FewShotPromptTemplate\n",
    "\n",
    "# First, create the list of few shot examples.\n",
    "examples = [\n",
    "    {\"word\": \"happy\", \"antonym\": \"sad\"},\n",
    "    {\"word\": \"tall\", \"antonym\": \"short\"},\n",
    "]\n",
    "\n",
    "# Next, we specify the template to format the examples we have provided.\n",
    "# We use the `PromptTemplate` class for this.\n",
    "example_formatter_template = \"\"\"Word: {word}\n",
    "Antonym: {antonym}\n",
    "\"\"\"\n",
    "\n",
    "example_prompt = PromptTemplate(\n",
    "    input_variables=[\"word\", \"antonym\"],\n",
    "    template=example_formatter_template,\n",
    ")\n",
    "\n",
    "\n",
    "# Finally, we create the `FewShotPromptTemplate` object.\n",
    "few_shot_prompt = FewShotPromptTemplate(\n",
    "    # These are the examples we want to insert into the prompt.\n",
    "    examples=examples,\n",
    "    # This is how we want to format the examples when we insert them into the prompt.\n",
    "    example_prompt=example_prompt,\n",
    "    # The prefix is some text that goes before the examples in the prompt.\n",
    "    # Usually, this consists of intructions.\n",
    "    prefix=\"Give the antonym of every input\\n\",\n",
    "    # The suffix is some text that goes after the examples in the prompt.\n",
    "    # Usually, this is where the user input will go\n",
    "    suffix=\"Word: {input}\\nAntonym: \",\n",
    "    # The input variables are the variables that the overall prompt expects.\n",
    "    input_variables=[\"input\"],\n",
    "    # The example_separator is the string we will use to join the prefix, examples, and suffix together with.\n",
    "    example_separator=\"\\n\",\n",
    ")\n",
    "\n",
    "print(few_shot_prompt.format(input='big'))\n",
    "\n",
    "print(\"-------------------------------------------\")\n",
    "chain=LLMChain(llm=llm,prompt=few_shot_prompt)\n",
    "response = chain.run({'input':\"big\"})\n",
    "print(response)"
   ]
  },
  {
   "cell_type": "code",
   "execution_count": 14,
   "id": "5ac974b2",
   "metadata": {},
   "outputs": [
    {
     "name": "stdout",
     "output_type": "stream",
     "text": [
      "Step 1: Write down the two numbers that need to be added together: 135 and 246.\n",
      "\n",
      "Step 2: Start by adding the rightmost digits of the two numbers, which are 5 and 6. The sum of these two digits is 11.\n",
      "\n",
      "Step 3: Write down the rightmost digit of the sum (1) and carry over the tens digit (1) to the next column.\n",
      "\n",
      "Step 4: Move to the next column and add the next digits from each number, which are 3 and 4. Add the carried over tens digit (1) as well. The sum of these three digits is 8.\n",
      "\n",
      "Step 5: Write down the rightmost digit of the sum (8) and carry over the tens digit (0) to the next column.\n",
      "\n",
      "Step 6: Move to the next column and add the next digits from each number, which are 1 and 2. Add the carried over tens digit (0) as well. The sum of these three digits is 3.\n",
      "\n",
      "Step 7: Write down the rightmost digit of the sum (3) and there are no more digits to add.\n",
      "\n",
      "Step 8: The final sum is 381.\n"
     ]
    }
   ],
   "source": [
    "#Chain-of-Thought Prompting\n",
    "#Chain-of-thought prompting encourages the model to explain its reasoning step-by-step to improve answer accuracy.\n",
    "\n",
    "\n",
    "\n",
    "prompt_template = \"\"\"\n",
    "You are solving a problem. Provide a step-by-step explanation.\n",
    "\n",
    "Question: {question}\n",
    "\"\"\"\n",
    "\n",
    "prompt = PromptTemplate(input_variables=[\"question\"], template=prompt_template)\n",
    "\n",
    "chain = LLMChain(llm=llm, prompt=prompt)\n",
    "\n",
    "response = chain.run({\"question\": \"What is the sum of 135 and 246?\"})\n",
    "print(response)\n"
   ]
  },
  {
   "cell_type": "code",
   "execution_count": 15,
   "id": "2c8459f4",
   "metadata": {},
   "outputs": [
    {
     "name": "stdout",
     "output_type": "stream",
     "text": [
      "The French Revolution, which occurred from 1789 to 1799, was a period of radical political and social upheaval in France. Its significance lies in its transformative impact on French society, the birth of new political ideologies, and its influence on subsequent revolutions and movements around the world.\n",
      "\n",
      "Firstly, the French Revolution resulted in the overthrow of the Bourbon monarchy and the establishment of a republic. This marked a significant shift in power from an absolute monarchy to a system based on the principles of liberty, equality, and fraternity. The revolutionaries sought to dismantle the feudal system, abolish privileges of the nobility and clergy, and promote the idea of popular sovereignty. These ideals became the foundation of modern democratic principles and had a lasting impact on political systems worldwide.\n",
      "\n",
      "Secondly, the French Revolution witnessed the rise of new political ideologies that would shape the course of history. The revolution gave birth to radical movements such as Jacobinism, which advocated for equality and pursued an agenda of social and political reforms. The Jacobins, led by Maximilien Robespierre, implemented policies such as the Reign of Terror, aimed at purging counter-revolutionaries. Additionally, the revolution also saw the emergence of liberalism, which emphasized individual rights, limited government, and free markets. These ideologies played a crucial role in shaping political discourse and inspired future revolutions and movements across Europe and beyond.\n",
      "\n",
      "Moreover, the French Revolution had a profound impact on social and economic structures. The revolution led to the abolition of feudalism, feudal dues, and serfdom, liberating peasants from their oppressive conditions. It also aimed to establish a more equitable taxation system and introduced the metric system, which facilitated trade and commerce. However, the revolution also witnessed significant social unrest and violence, as well as economic challenges caused by warfare and inflation.\n",
      "\n",
      "Furthermore, the French Revolution had a global impact, serving as a catalyst for revolutionary movements in other countries. The revolutionary ideas of liberty, equality, and nationalism spread across Europe, inspiring people to challenge the existing political order. The French revolutionary armies, led by Napoleon Bonaparte, conquered and introduced revolutionary ideas to many European territories. These conquests, known as the Napoleonic Wars, not only spread revolutionary ideals but also led to significant territorial and political changes across the continent.\n",
      "\n",
      "In conclusion, the French Revolution was a watershed moment in history. Its significance lies in its transformation of French society, the birth of new political ideologies, and its influence on subsequent revolutions and movements worldwide. The revolution's ideals of liberty, equality, and fraternity continue to resonate and shape political thought and systems in the modern era.\n"
     ]
    }
   ],
   "source": [
    "#Role-Playing\n",
    "#Models can be prompted to behave as a specific persona or entity.\n",
    "\n",
    "\n",
    "prompt_template = \"\"\"\n",
    "You are an AI teacher specializing in history. Explain the significance of the French Revolution.\n",
    "\"\"\"\n",
    "\n",
    "chain = LLMChain(llm=llm, prompt=PromptTemplate(input_variables=[], template=prompt_template))\n",
    "\n",
    "response = chain.run({})\n",
    "print(response)\n"
   ]
  },
  {
   "cell_type": "code",
   "execution_count": 17,
   "id": "f56da28a",
   "metadata": {},
   "outputs": [
    {
     "name": "stdout",
     "output_type": "stream",
     "text": [
      "ChatGPT can be applied in educational settings in several ways. Firstly, it can act as a virtual tutor, providing students with personalized assistance and guidance. Students can ask questions about specific topics or concepts, and ChatGPT can generate comprehensive and accurate explanations to help them understand the material better.\n",
      "\n",
      "Additionally, ChatGPT can be used as a writing assistant for students. It can provide suggestions, grammar and spelling corrections, and help improve the overall clarity and coherence of their written work. This can be especially beneficial for non-native English speakers or students who struggle with writing.\n",
      "\n",
      "Furthermore, ChatGPT can facilitate interactive learning experiences by engaging in conversational discussions with students. Teachers can create virtual discussion scenarios where students can practice critical thinking, problem-solving, and debating skills. ChatGPT can provide prompt responses, ask thought-provoking questions, and encourage students to delve deeper into the subject matter.\n",
      "\n",
      "Moreover, ChatGPT can serve as a knowledge repository, providing access to vast amounts of information across various subjects. Students can query ChatGPT for facts, definitions, or explanations, allowing them to expand their knowledge and conduct research more efficiently.\n",
      "\n",
      "Lastly, ChatGPT can be utilized for formative assessments. It can generate quizzes or practice questions, evaluate student responses, and provide immediate feedback. This enables students to assess their understanding of the material and identify areas for improvement.\n",
      "\n",
      "Overall, ChatGPT can enhance the learning experience by providing personalized support, enhancing writing skills, promoting interactive discussions, serving as a knowledge resource, and facilitating assessments in educational settings.\n"
     ]
    }
   ],
   "source": [
    " #Contextual Prompting\n",
    "#Contextual information is embedded in the prompt to enhance responses.\n",
    "\n",
    "\n",
    "context = \"\"\"\n",
    "ChatGPT, developed by OpenAI, is a large language model designed to assist with a variety of tasks, including generating text, answering questions, and providing recommendations.\n",
    "\"\"\"\n",
    "\n",
    "prompt_template = \"\"\"\n",
    "Using the context below, describe how ChatGPT can be applied in educational settings:\n",
    "\n",
    "Context: {context}\n",
    "\"\"\"\n",
    "\n",
    "prompt = PromptTemplate(input_variables=[\"context\"], template=prompt_template)\n",
    "\n",
    "chain = LLMChain(llm=llm, prompt=prompt)\n",
    "\n",
    "response = chain.run({\"context\": context})\n",
    "print(response)\n"
   ]
  },
  {
   "cell_type": "code",
   "execution_count": 19,
   "id": "1b45d4df",
   "metadata": {},
   "outputs": [
    {
     "name": "stdout",
     "output_type": "stream",
     "text": [
      "Story: Once upon a time, in a land far away, there lived a brave knight named Sir Arthur. He was known throughout the kingdom for his courage, loyalty, and unwavering sense of justice. People admired him, and children aspired to be like him one day. But little did they know that Sir Arthur's greatest adventure was yet to come.\n",
      "\n",
      "Deep within the enchanted forest, a fearsome dragon named Drakon lurked, terrorizing the nearby villages and instilling fear into the hearts of the people. The dragon's fiery breath and razor-sharp claws were unmatched, and it seemed like nothing could stand in his way. The king, desperate to protect his kingdom, summoned Sir Arthur and entrusted him with the task of slaying the mighty beast.\n",
      "\n",
      "Sir Arthur, undeterred by the daunting challenge, embarked on his journey. Armed with his gleaming sword, shield, and unwavering determination, he ventured into the heart of the forest. The path was treacherous, with thick foliage and hidden dangers at every turn, but Sir Arthur pressed on with unwavering resolve.\n",
      "\n",
      "Days turned into weeks, and Sir Arthur's search for the dragon seemed endless. The forest echoed with his footsteps, and the wind whispered ancient tales of the dragon's power. Just as Sir Arthur was beginning to lose hope, he stumbled upon a clearing, where a majestic creature lay basking in the sunlight.\n",
      "\n",
      "It was the dragon himself, Drakon, with his shimmering scales and piercing eyes. Sir Arthur's heart raced, but he stood tall, determined to fulfill his duty. The knight approached the dragon cautiously, not knowing what to expect. To his surprise, Drakon spoke in a deep, resonant voice.\n",
      "\n",
      "\"Brave knight, why have you come to challenge me?\" the dragon asked, curiosity evident in his tone.\n",
      "\n",
      "\"I have been sent by the king to protect our kingdom and its people from your reign of terror,\" Sir Arthur replied, his voice unwavering.\n",
      "\n",
      "Drakon let out a rumbling chuckle. \"You are indeed brave, knight. But have you ever wondered why I do what I do? It is not out of malice, but rather out of the fear of being captured and used for dark purposes.\"\n",
      "\n",
      "Sir Arthur listened intently, his grip on his sword loosening slightly. He had never considered that the dragon might have a reason for his actions.\n",
      "\n",
      "\"I have guarded a sacred treasure, a crystal that possesses unimaginable power,\" Drakon continued. \"Many seek to possess it, and I have vowed to protect it at all costs. However, if you prove yourself worthy, I shall relinquish it to you.\"\n",
      "\n",
      "Sir Arthur's eyes widened with surprise. He had expected a fierce battle, not a proposition. After a moment of contemplation, he sheathed his sword and extended his hand toward the dragon.\n",
      "\n",
      "\"I accept your challenge, Drakon,\" he said firmly. \"I will prove my worthiness and bring peace to our kingdom.\"\n",
      "\n",
      "For weeks, Sir Arthur trained alongside the dragon, honing his skills and learning from Drakon's wisdom. They faced numerous trials together, combining their strengths and overcoming obstacles. As they grew closer, Sir Arthur discovered the dragon's noble heart and the true purpose behind his actions.\n",
      "\n",
      "Finally, the day arrived when they reached the hidden chamber where the crystal was kept. Sir Arthur approached the crystal with reverence, feeling its immense power resonate within him. With a deep breath, he reached out and touched it, a surge of energy coursing through his veins.\n",
      "\n",
      "As the crystal's light enveloped the chamber, Sir Arthur turned to Drakon and smiled. \"Thank you, my friend, for showing me the true meaning of bravery and trust. I promise to protect this crystal and use its power for the greater good.\"\n",
      "\n",
      "And so, Sir Arthur and Drakon returned to the kingdom as allies, spreading peace and harmony throughout the land. The people rejoiced, forever grateful for the brave knight and the dragon who proved that sometimes, true courage lies not in fighting, but in understanding and friendship.\n",
      "\n",
      "\n",
      "\n",
      "Critique and Suggestions: Once upon a time, in a land far away, there lived a brave knight named Sir Arthur. He was known throughout the kingdom for his courage, loyalty, and unwavering sense of justice. People admired him, and children aspired to be like him one day. But little did they know that Sir Arthur's greatest adventure was yet to come.\n",
      "\n",
      "Deep within the enchanted forest, a fearsome dragon named Drakon lurked, terrorizing the nearby villages and instilling fear into the hearts of the people. The dragon's fiery breath and razor-sharp claws were unmatched, and it seemed like nothing could stand in his way. The king, desperate to protect his kingdom, summoned Sir Arthur and entrusted him with the task of slaying the mighty beast.\n",
      "\n",
      "Sir Arthur, undeterred by the daunting challenge, embarked on his journey. Armed with his gleaming sword, shield, and unwavering determination, he ventured into the heart of the forest. The path was treacherous, with thick foliage and hidden dangers at every turn, but Sir Arthur pressed on with unwavering resolve.\n",
      "\n",
      "Days turned into weeks, and Sir Arthur's search for the dragon seemed endless. The forest echoed with his footsteps, and the wind whispered ancient tales of the dragon's power. Just as Sir Arthur was beginning to lose hope, he stumbled upon a clearing, where a majestic creature lay basking in the sunlight.\n",
      "\n",
      "It was the dragon himself, Drakon, with his shimmering scales and piercing eyes. Sir Arthur's heart raced, but he stood tall, determined to fulfill his duty. The knight approached the dragon cautiously, not knowing what to expect. To his surprise, Drakon spoke in a deep, resonant voice.\n",
      "\n",
      "\"Brave knight, why have you come to challenge me?\" the dragon asked, curiosity evident in his tone.\n",
      "\n",
      "\"I have been sent by the king to protect our kingdom and its people from your reign of terror,\" Sir Arthur replied, his voice unwavering.\n",
      "\n",
      "Drakon let out a rumbling chuckle. \"You are indeed brave, knight. But have you ever wondered why I do what I do? It is not out of malice, but rather out of the fear of being captured and used for dark purposes.\"\n",
      "\n",
      "Sir Arthur listened intently, his grip on his sword loosening slightly. He had never considered that the dragon might have a reason for his actions.\n",
      "\n",
      "\"I have guarded a sacred treasure, a crystal that possesses unimaginable power,\" Drakon continued. \"Many seek to possess it, and I have vowed to protect it at all costs. However, if you prove yourself worthy, I shall relinquish it to you.\"\n",
      "\n",
      "Sir Arthur's eyes widened with surprise. He had expected a fierce battle, not a proposition. After a moment of contemplation, he sheathed his sword and extended his hand toward the dragon.\n",
      "\n",
      "\"I accept your challenge, Drakon,\" he said firmly. \"I will prove my worthiness and bring peace to our kingdom.\"\n",
      "\n",
      "For weeks, Sir Arthur trained alongside the dragon, honing his skills and learning from Drakon's wisdom. They faced numerous trials together, combining their strengths and overcoming obstacles. As they grew closer, Sir Arthur discovered the dragon's noble heart and the true purpose behind his actions.\n",
      "\n",
      "Finally, the day arrived when they reached the hidden chamber where the crystal was kept. Sir Arthur approached the crystal with reverence, feeling its immense power resonate within him. With a deep breath, he reached out and touched it, a surge of energy coursing through his veins.\n",
      "\n",
      "As the crystal's light enveloped the chamber, Sir Arthur turned to Drakon and smiled. \"Thank you, my friend, for showing me the true meaning of bravery and trust. I promise to protect this crystal and use its power for the greater good.\"\n",
      "\n",
      "And so, Sir Arthur and Drakon returned to the kingdom as allies, spreading peace and harmony throughout the land. The people rejoiced, forever grateful for the brave knight and the dragon who proved that sometimes, true courage lies not in fighting, but in understanding and friendship.\n",
      "\n",
      "Improvements:\n",
      "\n",
      "1. Add more vivid descriptions: While the story sets the scene and introduces the characters, it lacks detailed descriptions. Consider adding more vivid imagery to bring the enchanted forest, the dragon, and the crystal to life. This will make the story more engaging and immersive for the readers.\n",
      "\n",
      "2. Develop the conflict: The story briefly mentions the dragon's reign of terror, but it would benefit from further development. Explain the specific ways in which the dragon terrorized the villages and how it affected the people. This will create a stronger sense of urgency and make the knight's mission more meaningful.\n",
      "\n",
      "3. Show the knight's internal struggle: When the dragon reveals its motivations, it's an opportunity to delve into the knight's internal conflict. Show his initial skepticism and doubt, and then gradually reveal his changing perspective as he listens to the dragon's story. This will add depth to the character and make his decision to accept the dragon's challenge more impactful.\n",
      "\n",
      "4. Add more obstacles and challenges: While the story mentions that Sir Arthur and the dragon faced trials together, it doesn't provide specific details. Consider incorporating a series of challenging tasks or puzzles that they must overcome in order to prove the knight's worthiness. This will add excitement and suspense to the story.\n",
      "\n",
      "5. Strengthen the resolution: The ending of the story feels somewhat abrupt. Consider expanding on how Sir Arthur and Drakon use the crystal's power to bring peace and harmony to the kingdom. Show the impact of their actions on the people and how they work together to rebuild and heal the land. This will provide a more satisfying conclusion to the story.\n",
      "\n",
      "Overall, by incorporating these improvements, the story will become more engaging, emotionally resonant, and memorable.\n"
     ]
    }
   ],
   "source": [
    "#Self-Reflection Prompting\n",
    "#Ask the model to generate an output and then critique or improve it based on its evaluation.\n",
    "\n",
    "\n",
    "# Generate the initial output\n",
    "initial_prompt = PromptTemplate(input_variables=[\"task\"], template=\"Write a short story about {task}.\")\n",
    "critique_prompt = PromptTemplate(\n",
    "    input_variables=[\"output\"], \n",
    "    template=\"Critique the following story and suggest improvements:\\n{output}\"\n",
    ")\n",
    "\n",
    "# Chains\n",
    "initial_chain = LLMChain(llm=llm, prompt=initial_prompt)\n",
    "critique_chain = LLMChain(llm=llm, prompt=critique_prompt)\n",
    "\n",
    "# Generate and reflect\n",
    "story = initial_chain.run({\"task\": \"a brave knight and a dragon\"})\n",
    "critique = critique_chain.run({\"output\": story})\n",
    "\n",
    "print(\"Story:\", story)\n",
    "print(\"\\n\\n\\nCritique and Suggestions:\", critique)\n"
   ]
  },
  {
   "cell_type": "code",
   "execution_count": 22,
   "id": "d15f8749",
   "metadata": {},
   "outputs": [
    {
     "name": "stdout",
     "output_type": "stream",
     "text": [
      "Reverse-engineered Prompt: Input prompt: \"What is AI?\"\n"
     ]
    }
   ],
   "source": [
    "#Reverse Prompt Engineering\n",
    "#Explore what prompt would produce a given output, useful for understanding and tweaking LLM behavior.\n",
    "\n",
    "prompt = PromptTemplate(\n",
    "    input_variables=[\"output\"], \n",
    "    template=\"Given the following response, what would the most likely input prompt be?\\nResponse: {output}\"\n",
    ")\n",
    "\n",
    "chain = LLMChain(llm=llm, prompt=prompt)\n",
    "\n",
    "# Reverse engineer\n",
    "response = \"AI is a technology that enables machines to mimic human intelligence.\"\n",
    "reverse_prompt = chain.run({\"output\": response})\n",
    "\n",
    "print(\"Reverse-engineered Prompt:\", reverse_prompt)\n"
   ]
  },
  {
   "cell_type": "code",
   "execution_count": 38,
   "id": "418b39a3",
   "metadata": {},
   "outputs": [],
   "source": [
    "#Testing#####################################################################################\n",
    "###################################################\n",
    "#################################\n",
    "##########################################\n",
    "##########################################\n",
    "##########################################################################"
   ]
  },
  {
   "cell_type": "code",
   "execution_count": 32,
   "id": "7ae855ae",
   "metadata": {},
   "outputs": [
    {
     "name": "stdout",
     "output_type": "stream",
     "text": [
      "Collecting rouge_score\n",
      "  Downloading rouge_score-0.1.2.tar.gz (17 kB)\n",
      "  Preparing metadata (setup.py): started\n",
      "  Preparing metadata (setup.py): finished with status 'done'\n",
      "Requirement already satisfied: absl-py in c:\\users\\kirandambal\\appdata\\local\\programs\\python\\python311\\lib\\site-packages (from rouge_score) (1.4.0)\n",
      "Requirement already satisfied: nltk in c:\\users\\kirandambal\\appdata\\local\\programs\\python\\python311\\lib\\site-packages (from rouge_score) (3.8.1)\n",
      "Requirement already satisfied: numpy in c:\\users\\kirandambal\\appdata\\local\\programs\\python\\python311\\lib\\site-packages (from rouge_score) (1.26.4)\n",
      "Requirement already satisfied: six>=1.14.0 in c:\\users\\kirandambal\\appdata\\local\\programs\\python\\python311\\lib\\site-packages (from rouge_score) (1.16.0)\n",
      "Requirement already satisfied: click in c:\\users\\kirandambal\\appdata\\local\\programs\\python\\python311\\lib\\site-packages (from nltk->rouge_score) (8.1.3)\n",
      "Requirement already satisfied: joblib in c:\\users\\kirandambal\\appdata\\local\\programs\\python\\python311\\lib\\site-packages (from nltk->rouge_score) (1.3.2)\n",
      "Requirement already satisfied: regex>=2021.8.3 in c:\\users\\kirandambal\\appdata\\local\\programs\\python\\python311\\lib\\site-packages (from nltk->rouge_score) (2023.12.25)\n",
      "Requirement already satisfied: tqdm in c:\\users\\kirandambal\\appdata\\local\\programs\\python\\python311\\lib\\site-packages (from nltk->rouge_score) (4.66.1)\n",
      "Requirement already satisfied: colorama in c:\\users\\kirandambal\\appdata\\local\\programs\\python\\python311\\lib\\site-packages (from click->nltk->rouge_score) (0.4.6)\n",
      "Building wheels for collected packages: rouge_score\n",
      "  Building wheel for rouge_score (setup.py): started\n",
      "  Building wheel for rouge_score (setup.py): finished with status 'done'\n",
      "  Created wheel for rouge_score: filename=rouge_score-0.1.2-py3-none-any.whl size=24972 sha256=5bb202f9fcf63e4713e270cc84f904330ccca7fe29da37b9de3bc19dee5a42bc\n",
      "  Stored in directory: c:\\users\\kirandambal\\appdata\\local\\pip\\cache\\wheels\\1e\\19\\43\\8a442dc83660ca25e163e1bd1f89919284ab0d0c1475475148\n",
      "Successfully built rouge_score\n",
      "Installing collected packages: rouge_score\n",
      "Successfully installed rouge_score-0.1.2\n"
     ]
    },
    {
     "name": "stderr",
     "output_type": "stream",
     "text": [
      "\n",
      "[notice] A new release of pip is available: 24.2 -> 24.3.1\n",
      "[notice] To update, run: python.exe -m pip install --upgrade pip\n"
     ]
    }
   ],
   "source": [
    "!pip install rouge_score"
   ]
  },
  {
   "cell_type": "code",
   "execution_count": 35,
   "id": "54d8b617",
   "metadata": {},
   "outputs": [
    {
     "name": "stdout",
     "output_type": "stream",
     "text": [
      "ROUGE Scores: {'rouge1': Score(precision=0.05, recall=0.625, fmeasure=0.09259259259259259), 'rougeL': Score(precision=0.05, recall=0.625, fmeasure=0.09259259259259259)}\n"
     ]
    }
   ],
   "source": [
    "from rouge_score import rouge_scorer\n",
    "\n",
    "reference = \"AI is a technology that mimics human intelligence.\"\n",
    "# Define the prompt\n",
    "prompt = PromptTemplate(input_variables=[\"topic\"], template=\"Explain {topic} in simple terms.\")\n",
    "\n",
    "# Create the LLM Chain\n",
    "chain = LLMChain(llm=llm, prompt=prompt)\n",
    "\n",
    "# Execute the chain\n",
    "response = chain.run({\"topic\": \"AI\"})\n",
    "\n",
    "scorer = rouge_scorer.RougeScorer(['rouge1', 'rougeL'], use_stemmer=True)\n",
    "scores = scorer.score(reference, response)\n",
    "print(\"ROUGE Scores:\", scores)\n"
   ]
  },
  {
   "cell_type": "code",
   "execution_count": 43,
   "id": "ed52d7c9",
   "metadata": {},
   "outputs": [
    {
     "name": "stderr",
     "output_type": "stream",
     "text": [
      "C:\\Users\\KiranDambal\\AppData\\Local\\Programs\\Python\\Python311\\Lib\\site-packages\\langchain_community\\chat_models\\azure_openai.py:168: UserWarning: As of openai>=1.0.0, Azure endpoints should be specified via the `azure_endpoint` param not `openai_api_base` (or alias `base_url`). Updating `openai_api_base` from https://azureopenai1484.openai.azure.com/ to https://azureopenai1484.openai.azure.com/openai.\n",
      "  warnings.warn(\n",
      "C:\\Users\\KiranDambal\\AppData\\Local\\Programs\\Python\\Python311\\Lib\\site-packages\\langchain_community\\chat_models\\azure_openai.py:175: UserWarning: As of openai>=1.0.0, if `deployment_name` (or alias `azure_deployment`) is specified then `openai_api_base` (or alias `base_url`) should not be. Instead use `deployment_name` (or alias `azure_deployment`) and `azure_endpoint`.\n",
      "  warnings.warn(\n",
      "C:\\Users\\KiranDambal\\AppData\\Local\\Programs\\Python\\Python311\\Lib\\site-packages\\langchain_community\\chat_models\\azure_openai.py:183: UserWarning: As of openai>=1.0.0, if `openai_api_base` (or alias `base_url`) is specified it is expected to be of the form https://example-resource.azure.openai.com/openai/deployments/example-deployment. Updating https://azureopenai1484.openai.azure.com/ to https://azureopenai1484.openai.azure.com/openai.\n",
      "  warnings.warn(\n"
     ]
    },
    {
     "name": "stdout",
     "output_type": "stream",
     "text": [
      "Prompt A Response:\n",
      "\n",
      " Artificial Intelligence (AI) refers to the simulation of human intelligence in machines that are programmed to think and learn like humans. It involves the development of computer systems capable of performing tasks that normally require human intelligence, such as perception, reasoning, learning, problem-solving, and decision-making. AI aims to create intelligent machines that can replicate and automate human cognitive processes, enabling them to analyze data, recognize patterns, understand natural language, and make predictions or recommendations. AI technologies include machine learning, natural language processing, computer vision, robotics, expert systems, and neural networks, among others.\n",
      "-----------------------------------------\n",
      "\n",
      "\n",
      "Prompt B Response:\n",
      "\n",
      " Artificial intelligence (AI) refers to the development of computer systems that can perform tasks that typically require human intelligence. It is a broad field of study that focuses on creating machines or software capable of mimicking human intelligence, enabling them to learn from data, reason, make decisions, and solve problems.\n",
      "\n",
      "AI systems are designed to process and analyze large amounts of information, recognizing patterns, and making predictions or recommendations based on this data. They can perform tasks such as natural language processing (understanding and generating human language), image and speech recognition, playing games, autonomous driving, and much more.\n",
      "\n",
      "AI algorithms are often built using machine learning, which involves training a model with large datasets. The model learns from these examples and generalizes the knowledge to make predictions or take actions in new situations. Deep learning, a subfield of machine learning, uses neural networks to simulate how the human brain works, allowing AI systems to process complex data and extract meaningful insights.\n",
      "\n",
      "It is important to note that AI is not limited to just one approach or technology. There are different types of AI, ranging from narrow AI, which is designed to perform specific tasks, to general AI, which would possess human-level intelligence across various domains.\n",
      "\n",
      "AI has found applications in various industries, including healthcare, finance, transportation, entertainment, and more. It has the potential to revolutionize the way we live and work, enabling us to automate tasks, enhance decision-making processes, improve efficiency, and address complex problems.\n",
      "\n",
      "However, it is essential to consider the ethical implications and potential risks associated with AI. As AI systems become more advanced, concerns regarding privacy, bias, transparency, and job displacement arise, requiring careful consideration and regulation.\n",
      "\n",
      "Overall, artificial intelligence is an exciting field that aims to develop intelligent machines capable of performing tasks that traditionally required human intelligence, bringing about significant advancements and shaping the future of technology.\n"
     ]
    }
   ],
   "source": [
    "#A/B Testing\n",
    "#Compare two prompts to see which one generates better results.\n",
    "from langchain.prompts import PromptTemplate\n",
    "from langchain.chains import LLMChain\n",
    "from langchain_community.chat_models import AzureChatOpenAI\n",
    "\n",
    "#Environment variables\n",
    "key = \"AqnKIXn43krnHWUd3yAAcGKqymTrQNqSyUIIF8MA45zYwlQtnZ0YJQQJ99AKACfhMk5XJ3w3AAABACOG1TBS\"\n",
    "endpoint = \"https://azureopenai1484.openai.azure.com/\"\n",
    "name = \"Demo\"\n",
    "model = \"gpt-35-turbo-16k\"\n",
    "version = \"2023-03-15-preview\"\n",
    "\n",
    "#Initilize the LLM through the langchain method\n",
    "llm = AzureChatOpenAI(\n",
    "    deployment_name=name,\n",
    "    model=model,\n",
    "    openai_api_key=key,\n",
    "    openai_api_base=endpoint,\n",
    "    openai_api_version=version,\n",
    ")\n",
    "\n",
    "# Define two prompts\n",
    "prompt_a = PromptTemplate(input_variables=[\"topic\"], template=\"What is {topic}?\")\n",
    "prompt_b = PromptTemplate(input_variables=[\"topic\"], template=\"Explain {topic} to a beginner.\")\n",
    "\n",
    "# Create LLMChains\n",
    "chain_a = LLMChain(llm=llm, prompt=prompt_a)\n",
    "chain_b = LLMChain(llm=llm, prompt=prompt_b)\n",
    "\n",
    "# A/B Testing\n",
    "topic = \"artificial intelligence\"\n",
    "response_a = chain_a.run({\"topic\": topic})\n",
    "response_b = chain_b.run({\"topic\": topic})\n",
    "\n",
    "# Compare outputs\n",
    "print(\"Prompt A Response:\\n\\n\", response_a)\n",
    "print(\"-----------------------------------------\")\n",
    "print(\"\\n\\nPrompt B Response:\\n\\n\", response_b)\n"
   ]
  },
  {
   "cell_type": "code",
   "execution_count": 46,
   "id": "16df3c55",
   "metadata": {},
   "outputs": [
    {
     "name": "stdout",
     "output_type": "stream",
     "text": [
      "Variation 1 Response:\n",
      "\n",
      " Artificial intelligence (AI) refers to the field of computer science that focuses on creating intelligent machines that can perform tasks that typically require human intelligence. AI involves developing computer programs or systems capable of learning, reasoning, problem-solving, understanding natural language, perceiving the environment, and interacting with humans. It aims to replicate and imitate human intelligence in machines, enabling them to perform tasks such as speech recognition, image or pattern recognition, decision-making, and even autonomous actions. AI can be classified into different categories, including narrow or weak AI, which is designed for specific tasks, and general or strong AI, which has the ability to understand and perform any intellectual task a human can do.\n",
      "\n",
      "\n",
      "\n",
      "\n",
      "Variation 2 Response:\n",
      "\n",
      " Artificial intelligence (AI) refers to the simulation of human intelligence in machines that are programmed to think and learn like humans. It involves the development of computer systems capable of performing tasks that typically require human intelligence, such as perception, reasoning, learning, problem-solving, and decision-making.\n",
      "\n",
      "AI systems are designed to analyze vast amounts of data, recognize patterns, and make predictions or decisions based on that data. They can be trained to perform specific tasks by processing large datasets and learning from examples or experiences. This process is known as machine learning, a subset of AI.\n",
      "\n",
      "There are different types of AI, including narrow or weak AI, which is designed for specific applications like voice recognition or image classification. On the other hand, general or strong AI aims to possess the ability to understand, learn, and apply knowledge across various domains, similar to human intelligence.\n",
      "\n",
      "AI technologies are used in various fields, such as healthcare, finance, transportation, gaming, customer service, and many others. Some common AI applications include virtual assistants (like Siri or Alexa), autonomous vehicles, fraud detection systems, recommendation algorithms, and medical diagnosis tools.\n",
      "\n",
      "While AI has made significant advancements in recent years, it still has limitations. AI systems may struggle with understanding context, common sense reasoning, or dealing with ambiguous situations. Additionally, ethical concerns and the potential impact on jobs and society are important factors to consider when discussing AI.\n",
      "\n",
      "\n",
      "\n",
      "\n",
      "Variation 3 Response:\n",
      "\n",
      " Artificial intelligence (AI) is the ability of a computer or machine to think, learn, and make decisions like a human does. It involves creating intelligent systems that can process information, understand patterns, and perform tasks without explicit instructions. AI uses algorithms and data to analyze and interpret information, allowing machines to recognize images, understand speech, solve problems, and even simulate human conversation. It aims to mimic human intelligence and enhance the abilities of machines to perform complex tasks autonomously.\n",
      "\n",
      "\n",
      "\n",
      "\n"
     ]
    }
   ],
   "source": [
    "#Prompt Sensitivity Analysis\n",
    "#Test how slight changes in the prompt wording affect the output.\n",
    "\n",
    "# Define variations of the same prompt\n",
    "prompt_variations = [\n",
    "    PromptTemplate(input_variables=[\"topic\"], template=\"What is {topic}?\"),\n",
    "    PromptTemplate(input_variables=[\"topic\"], template=\"Can you explain {topic}?\"),\n",
    "    PromptTemplate(input_variables=[\"topic\"], template=\"Describe {topic} in simple terms.\"),\n",
    "]\n",
    "\n",
    "# Create LLMChains for each variation\n",
    "chains = [LLMChain(llm=llm, prompt=prompt) for prompt in prompt_variations]\n",
    "\n",
    "# Run sensitivity analysis\n",
    "topic = \"artificial intelligence\"\n",
    "for i, chain in enumerate(chains):\n",
    "    response = chain.run({\"topic\": topic})\n",
    "    print(f\"Variation {i+1} Response:\\n\\n {response}\\n\\n\\n\\n\")\n"
   ]
  },
  {
   "cell_type": "code",
   "execution_count": 48,
   "id": "3779ca07",
   "metadata": {},
   "outputs": [
    {
     "name": "stdout",
     "output_type": "stream",
     "text": [
      "Initial Response: Artificial intelligence (AI) refers to the simulation of human intelligence in machines that are programmed to think, learn, and problem-solve like humans. It involves creating computer systems that can perform tasks that typically require human intelligence, such as understanding natural language, recognizing images, making decisions, and improving their performance over time through machine learning. AI encompasses a wide range of technologies and applications, including robotics, natural language processing, computer vision, expert systems, and more.\n",
      "\n",
      "\n",
      "\n",
      " Was this response satisfactory? (yes/no): no\n",
      "\n",
      "\n",
      "\n",
      " Updated Response: Artificial intelligence (AI) refers to the ability of a machine or computer program to think and learn like a human. It involves creating intelligent machines that can perceive and understand their environment, make decisions, and solve problems.\n",
      "\n",
      "AI is built on the concept of \"machine learning,\" which enables computers to learn from experience and improve their performance over time without being explicitly programmed. This learning process involves feeding large amounts of data to the AI system, allowing it to recognize patterns, make predictions, and identify important features.\n",
      "\n",
      "There are two types of AI: Narrow AI and General AI. Narrow AI is designed to perform specific tasks, such as facial recognition, virtual assistants like Siri, or self-driving cars. General AI, on the other hand, possesses the ability to understand and apply knowledge across various domains, just like humans.\n",
      "\n",
      "AI systems use various techniques such as neural networks, which are inspired by the human brain's structure. These networks consist of interconnected nodes or \"neurons\" that process and analyze information, enabling the AI to learn and make decisions. Reinforcement learning is another technique where AI agents learn through trial-and-error and receive feedback to improve their performance.\n",
      "\n",
      "AI has numerous applications in different fields. In healthcare, AI can analyze medical data to assist in disease diagnosis and treatment recommendations. In finance, AI algorithms can predict market trends and make investment decisions. AI is also used in industries like manufacturing, transportation, and customer service to automate tasks, increase efficiency, and improve overall productivity.\n",
      "\n",
      "However, it is important to note that AI is still evolving, and there are limitations and ethical concerns associated with its development. Ensuring AI systems are unbiased, transparent, and used responsibly is crucial to avoid potential negative consequences.\n",
      "\n",
      "In summary, artificial intelligence is the development of machines and computer programs that can think, learn, and solve problems like humans. It involves techniques such as machine learning and neural networks to process data and make decisions. AI has diverse applications and holds great potential to revolutionize various industries, but it also requires careful consideration of ethical and societal implications.\n"
     ]
    }
   ],
   "source": [
    "#Feedback Loop Testing\n",
    "#Improve prompts iteratively based on evaluator feedback.\n",
    "# Define the initial prompt\n",
    "prompt = PromptTemplate(input_variables=[\"topic\"], template=\"What is {topic}?\")\n",
    "chain = LLMChain(llm=llm, prompt=prompt)\n",
    "\n",
    "# Feedback Loop\n",
    "topic = \"artificial intelligence\"\n",
    "response = chain.run({\"topic\": topic})\n",
    "\n",
    "print(\"Initial Response:\", response)\n",
    "feedback = input(\"\\n\\n\\n Was this response satisfactory? (yes/no): \")\n",
    "\n",
    "if feedback.lower() == \"no\":\n",
    "    # Adjust the prompt based on feedback\n",
    "    updated_prompt = PromptTemplate(input_variables=[\"topic\"], template=\"Explain {topic} in a detailed and simple way.\")\n",
    "    chain = LLMChain(llm=llm, prompt=updated_prompt)\n",
    "    updated_response = chain.run({\"topic\": topic})\n",
    "    print(\"\\n\\n\\n Updated Response:\", updated_response)\n"
   ]
  },
  {
   "cell_type": "code",
   "execution_count": 50,
   "id": "9acd3bbc",
   "metadata": {},
   "outputs": [
    {
     "name": "stderr",
     "output_type": "stream",
     "text": [
      "WARNING:langchain_community.chat_models.openai:WARNING! top_p is not default parameter.\n",
      "                    top_p was transferred to model_kwargs.\n",
      "                    Please confirm that top_p is what you intended.\n",
      "WARNING:langchain_community.chat_models.openai:WARNING! frequency_penalty is not default parameter.\n",
      "                    frequency_penalty was transferred to model_kwargs.\n",
      "                    Please confirm that frequency_penalty is what you intended.\n",
      "WARNING:langchain_community.chat_models.openai:WARNING! presence_penalty is not default parameter.\n",
      "                    presence_penalty was transferred to model_kwargs.\n",
      "                    Please confirm that presence_penalty is what you intended.\n",
      "C:\\Users\\KiranDambal\\AppData\\Local\\Programs\\Python\\Python311\\Lib\\site-packages\\langchain_community\\chat_models\\azure_openai.py:168: UserWarning: As of openai>=1.0.0, Azure endpoints should be specified via the `azure_endpoint` param not `openai_api_base` (or alias `base_url`). Updating `openai_api_base` from https://azureopenai1484.openai.azure.com/ to https://azureopenai1484.openai.azure.com/openai.\n",
      "  warnings.warn(\n",
      "C:\\Users\\KiranDambal\\AppData\\Local\\Programs\\Python\\Python311\\Lib\\site-packages\\langchain_community\\chat_models\\azure_openai.py:175: UserWarning: As of openai>=1.0.0, if `deployment_name` (or alias `azure_deployment`) is specified then `openai_api_base` (or alias `base_url`) should not be. Instead use `deployment_name` (or alias `azure_deployment`) and `azure_endpoint`.\n",
      "  warnings.warn(\n",
      "C:\\Users\\KiranDambal\\AppData\\Local\\Programs\\Python\\Python311\\Lib\\site-packages\\langchain_community\\chat_models\\azure_openai.py:183: UserWarning: As of openai>=1.0.0, if `openai_api_base` (or alias `base_url`) is specified it is expected to be of the form https://example-resource.azure.openai.com/openai/deployments/example-deployment. Updating https://azureopenai1484.openai.azure.com/ to https://azureopenai1484.openai.azure.com/openai.\n",
      "  warnings.warn(\n"
     ]
    },
    {
     "name": "stdout",
     "output_type": "stream",
     "text": [
      "Response: Artificial intelligence (AI) refers to the ability of machines or computer systems to perform tasks that usually require human intelligence. It involves creating computer programs or algorithms that can learn, reason, and make decisions like humans. AI enables machines to analyze data, recognize patterns, and adapt to new situations without being explicitly programmed for each specific scenario. In simple terms, AI aims to make machines smart enough to understand, think, and act similar to how humans do.\n"
     ]
    }
   ],
   "source": [
    "#prompt parameters\n",
    "\n",
    "from langchain_community.chat_models import AzureChatOpenAI\n",
    "from langchain.prompts import PromptTemplate\n",
    "from langchain.chains import LLMChain\n",
    "\n",
    "# Define Azure Chat Model with custom parameters\n",
    "llm = AzureChatOpenAI(\n",
    "    deployment_name=\"Demo\",\n",
    "    model=\"gpt-35-turbo-16k\",\n",
    "    openai_api_key=\"AqnKIXn43krnHWUd3yAAcGKqymTrQNqSyUIIF8MA45zYwlQtnZ0YJQQJ99AKACfhMk5XJ3w3AAABACOG1TBS\",\n",
    "    openai_api_base=\"https://azureopenai1484.openai.azure.com/\",\n",
    "    openai_api_version=\"2023-03-15-preview\",\n",
    "    temperature=0.7,          # Balanced creativity\n",
    "    max_tokens=100,           # Restrict response length\n",
    "    top_p=0.9,                # Use top-p sampling\n",
    "    frequency_penalty=0.2,    # Penalize frequent words slightly\n",
    "    presence_penalty=0.5      # Encourage new ideas in responses\n",
    ")\n",
    "\n",
    "# Define a prompt\n",
    "prompt = PromptTemplate(\n",
    "    input_variables=[\"topic\"],\n",
    "    template=\"Explain {topic} in simple terms.\"\n",
    ")\n",
    "\n",
    "# Create a chain\n",
    "chain = LLMChain(llm=llm, prompt=prompt)\n",
    "\n",
    "# Run the chain\n",
    "response = chain.run({\"topic\": \"artificial intelligence\"})\n",
    "print(\"Response:\", response)\n"
   ]
  },
  {
   "cell_type": "code",
   "execution_count": null,
   "id": "e9af51aa",
   "metadata": {},
   "outputs": [],
   "source": []
  }
 ],
 "metadata": {
  "kernelspec": {
   "display_name": "Python 3 (ipykernel)",
   "language": "python",
   "name": "python3"
  },
  "language_info": {
   "codemirror_mode": {
    "name": "ipython",
    "version": 3
   },
   "file_extension": ".py",
   "mimetype": "text/x-python",
   "name": "python",
   "nbconvert_exporter": "python",
   "pygments_lexer": "ipython3",
   "version": "3.11.3"
  }
 },
 "nbformat": 4,
 "nbformat_minor": 5
}
